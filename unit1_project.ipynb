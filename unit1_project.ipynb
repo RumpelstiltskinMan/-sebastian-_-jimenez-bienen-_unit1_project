{
 "cells": [
  {
   "cell_type": "markdown",
   "metadata": {},
   "source": [
    "<img src=\"http://imgur.com/1ZcRyrc.png\" style=\"float: left; margin: 20px; height: 55px\">\n",
    "\n",
    "# Project 1: Python Coding Exercises\n",
    "\n",
    "_Authors: Joseph Nelson (DC) _\n",
    "\n",
    "---"
   ]
  },
  {
   "cell_type": "markdown",
   "metadata": {},
   "source": [
    "The following code challenges are drawn from common exercises used in technical interviews.\n",
    "\n",
    "Please note that there may be several ways to approach each challenge. If you get stuck, try mapping out your approach in pseudocode first. Finally, while solutions to problems like these may be found online, remember that if you copy/paste code that you can't explain, you'll be missing out on the point of the project. The only way to truly learn a new skill is through practice, trial, and error - we can only help you improve by understanding where you are having trouble."
   ]
  },
  {
   "cell_type": "markdown",
   "metadata": {},
   "source": [
    "### Challenge 1: Largest Palindrome\n",
    "A palindromic number reads the same both ways. For example, 1234321 is a palindrome. The largest palindrome made from the product of two two-digit numbers is 9009 = 91 × 99. Find the largest palindrome made from the product of two three-digit numbers. Afterward, write a brief explanation walking through your code's logic in markdown."
   ]
  },
  {
   "cell_type": "code",
   "execution_count": 1,
   "metadata": {
    "collapsed": true
   },
   "outputs": [],
   "source": [
    "##First we need to get a range of all three digit numbers.\n",
    "#Three digit numbers are all natural numbers between 100 and 999.\n",
    "#We need to put them in a list because we'll need to reference it later when multiplying and pulling out a palindrome.\n",
    "#We're making a list because the order does matter here, since we want to multiply each number in the list with all the others.\n",
    "three_digit_nums = list(range(100,1000))"
   ]
  },
  {
   "cell_type": "code",
   "execution_count": 2,
   "metadata": {
    "collapsed": true
   },
   "outputs": [
    {
     "name": "stdout",
     "output_type": "stream",
     "text": [
      "998001\n"
     ]
    }
   ],
   "source": [
    "##Second: we need to get a list of all the possible multiplications between all three digit numbers.\n",
    "\n",
    "#Since python doesn't really have cool functions for multiplying integeer elements of lists with each other in a distributive way, we'll have to import a function that does that. Since we haven't gotten into numpy in class, we'll stay out of numpy for now.\n",
    "from itertools import product\n",
    "#The method product from the module intertools allows us to get a cartesian product between lists, where all elements of a list are paired with all the elements of another list in a distributive way.\n",
    "#Now we need to multiply each of the pairs\n",
    "three_digit_nums_multiplied = [x * y for x, y in product(three_digit_nums, three_digit_nums)]\n",
    "#Just to make sure that we did it right, let's print the last element of our list of mulitplications of three digit numbers. It should be the multiplication between 999 and 999 which is 998001.\n",
    "print(three_digit_nums_multiplied[-1])\n",
    "    #Beautiful. It worked. Now let's move on."
   ]
  },
  {
   "cell_type": "code",
   "execution_count": 3,
   "metadata": {
    "collapsed": true
   },
   "outputs": [
    {
     "name": "stdout",
     "output_type": "stream",
     "text": [
      "906609\n"
     ]
    }
   ],
   "source": [
    "##Third: Now we make our list of palindrome\n",
    "\n",
    "#We'll use a for statement that will go through our whole list of numbers, and seeing if they meet our requirements. If they do meet our requirements, then the number will get appended to the palindrome list.\n",
    "palindromes = []\n",
    "for number in three_digit_nums_multiplied:\n",
    "    if str(number) == str(number)[::-1]:\n",
    "        palindromes.append(number)\n",
    "#The first thing we did here is we had to turn all the numbers in three_digit_nums_multiplied to strings.\n",
    "    #The reason we did that is that it is easier to tell python to spell a string backwards than an integeer. Spelling an integeer backward would require more complex code.\n",
    "#The second thing we did was tell the for statement to check if every string version of the number was equal to its reverse. We expressed the reverse of the number by taking advantage of the slice notation in python. \n",
    "#The last thing we did was tell the program to add every number that was equal to its reverse into the palindromes list.\n",
    "\n",
    "##The final step is checking which one is the largest palindrome. There's many ways to do this, but we'll just sort the list in descending order, and print the first element.\n",
    "palindromes.sort(reverse=True)\n",
    "print(palindromes[0])\n",
    "#Beautiful. 906609 seems about the right value. So the code worked!\n"
   ]
  },
  {
   "cell_type": "markdown",
   "metadata": {},
   "source": [
    "It's pretty much clear from my comments, but basically what I did was multiply every three digit number with each other, made a list of all those multiplications, and then created a for loop that checked one by one to see if that number was equal to itself spelled backwards. In order to check the spelling I had to turn the numbers into strings. I put the numbers that fit that criteria into a new list, and then, I ordered the list in descending order and printed the first element. "
   ]
  },
  {
   "cell_type": "markdown",
   "metadata": {},
   "source": [
    "\n",
    "### Challenge 2: Summation of Primes\n",
    "The sum of the primes below 10 is 2 + 3 + 5 + 7 = 17. Find the sum of all the primes below 2,000. Afterward, write a brief explanation walking through your code's logic in markdown.\n",
    "\n"
   ]
  },
  {
   "cell_type": "code",
   "execution_count": 149,
   "metadata": {},
   "outputs": [
    {
     "data": {
      "text/plain": [
       "277050"
      ]
     },
     "execution_count": 149,
     "metadata": {},
     "output_type": "execute_result"
    }
   ],
   "source": [
    "##This is the code where I think I got closest to solving the problem. I tried for hours but it didn't work though. There is something in my code that I can't figure out for the life of me ..... \n",
    "#Forget that first line, that's what I said after basically giving up, only to then come back to it to realize that I wasn't printing the right list of prime numbers. I spelled my list name wrong. \n",
    "\n",
    "#This is my range of numbers from 2 to 2000. I didn't include 1 to make my for loop simpler\n",
    "upto2000 = list(range(2,2001)) \n",
    "\n",
    "#This list is basically pairing each number with every other number except itself\n",
    "paired_other = []\n",
    "for pair in product(upto2000,upto2000): \n",
    "    if pair[0] != pair[1]:\n",
    "        paired_other.append(pair)\n",
    "        \n",
    "#This is where I grouped elements in my paired list with other similar elements within the same sublist.\n",
    "#This is grouping every number in a list within the larger list. All of the pairs in the same group have the same value at pair[0]. So we have [[(2,3), (2,4).... (2,10)]....[10,9]]\n",
    "#It is pertinent to say that I got this method for grouping elements in a list within sublists from Stack Overflow\n",
    "N = (len(mylist1)-1)\n",
    "groupedlist = [mylist2[n:n+N] for n in range(0, len(paired_other), N)]\n",
    "\n",
    "##This is the good stuff.\n",
    "#Created a for loop that would go through every one of the sublists within the grouped list, divide the first element of the pair tuple by the second, and check if there was at least one division that yielded a remainder of zero in the whole sublist. \n",
    "#If none of the divisions of the pairs yielded a zero, the first element of the pair would be appended to the prime number list.\n",
    "primes1 = []\n",
    "for row in groupedlist:\n",
    "    remainders = []\n",
    "    for pair in row:\n",
    "        remainder = pair[0]%pair[1]\n",
    "        remainders.append(int(remainder))\n",
    "    if 0 not in remainders:\n",
    "        primes1.append(pair[0])\n",
    "\n",
    "##Now we only have to sum\n",
    "sum(primes1)"
   ]
  },
  {
   "cell_type": "markdown",
   "metadata": {},
   "source": [
    "This one was the hardest one for me. I tried it in so many different ways but something would not work right. There probably is a simpler way to do it, but this is the way that I knew how to do it given all the practice I've gotten using lists and for loops to append elements to a list. I spent more than 6 hours on this one problem. I even thought of giving up at the end because I could not find what was wrong with my code, before I realized it was a very stupid typo. \n",
    "\n",
    "To give a very brief summary of my code, what I basically did was get the remainder of the division every number in the range and every other number that was not itself. I did that by first creating a list of pairs that paired every number in the range with every other number that was not itself, using the product method from itertools. Then I grouped together the pairs that had the same first element like [[[2,3][2,4][2,5]... [2,2000]] ....[2000,1999]]]. Then I got the remainder of every pair within the same sublist, checked if there was at least one remainder = 0 in the sublist, and if there wasn't, I would append the number I was checking for that sublist to the prime number list. Then I just had to sum all the numbers in the prime number list together. "
   ]
  },
  {
   "cell_type": "markdown",
   "metadata": {},
   "source": [
    "### Challenge 3: Multiples of 3 and 5\n",
    "If we list all of the natural numbers below 10 that are multiples of 3 or 5, we get 3, 5, 6, and 9. The sum of these multiples is 23. Find the sum of all the multiples of 3 or 5 below 1,000. Afterward, write a brief explanation walking through your code's logic in markdown."
   ]
  },
  {
   "cell_type": "code",
   "execution_count": 123,
   "metadata": {
    "collapsed": true
   },
   "outputs": [],
   "source": [
    "##Let's make a range of all natural numbers up to 1000. This list will allow us to reference it later on, and pull out the list of multiples that we need to make our final sum\n",
    "up_to_1000 = list(range(3,1001))"
   ]
  },
  {
   "cell_type": "code",
   "execution_count": 39,
   "metadata": {
    "collapsed": true
   },
   "outputs": [
    {
     "name": "stdout",
     "output_type": "stream",
     "text": [
      "[3, 5, 6, 9, 10, 12, 15, 18, 20, 21, 24, 25, 27, 30, 33, 35, 36, 39, 40, 42, 45, 48, 50, 51, 54, 55, 57, 60, 63, 65, 66, 69, 70, 72, 75, 78, 80, 81, 84, 85, 87, 90, 93, 95, 96, 99, 100, 102, 105, 108, 110, 111, 114, 115, 117, 120, 123, 125, 126, 129, 130, 132, 135, 138, 140, 141, 144, 145, 147, 150, 153, 155, 156, 159, 160, 162, 165, 168, 170, 171, 174, 175, 177, 180, 183, 185, 186, 189, 190, 192, 195, 198, 200, 201, 204, 205, 207, 210, 213, 215, 216, 219, 220, 222, 225, 228, 230, 231, 234, 235, 237, 240, 243, 245, 246, 249, 250, 252, 255, 258, 260, 261, 264, 265, 267, 270, 273, 275, 276, 279, 280, 282, 285, 288, 290, 291, 294, 295, 297, 300, 303, 305, 306, 309, 310, 312, 315, 318, 320, 321, 324, 325, 327, 330, 333, 335, 336, 339, 340, 342, 345, 348, 350, 351, 354, 355, 357, 360, 363, 365, 366, 369, 370, 372, 375, 378, 380, 381, 384, 385, 387, 390, 393, 395, 396, 399, 400, 402, 405, 408, 410, 411, 414, 415, 417, 420, 423, 425, 426, 429, 430, 432, 435, 438, 440, 441, 444, 445, 447, 450, 453, 455, 456, 459, 460, 462, 465, 468, 470, 471, 474, 475, 477, 480, 483, 485, 486, 489, 490, 492, 495, 498, 500, 501, 504, 505, 507, 510, 513, 515, 516, 519, 520, 522, 525, 528, 530, 531, 534, 535, 537, 540, 543, 545, 546, 549, 550, 552, 555, 558, 560, 561, 564, 565, 567, 570, 573, 575, 576, 579, 580, 582, 585, 588, 590, 591, 594, 595, 597, 600, 603, 605, 606, 609, 610, 612, 615, 618, 620, 621, 624, 625, 627, 630, 633, 635, 636, 639, 640, 642, 645, 648, 650, 651, 654, 655, 657, 660, 663, 665, 666, 669, 670, 672, 675, 678, 680, 681, 684, 685, 687, 690, 693, 695, 696, 699, 700, 702, 705, 708, 710, 711, 714, 715, 717, 720, 723, 725, 726, 729, 730, 732, 735, 738, 740, 741, 744, 745, 747, 750, 753, 755, 756, 759, 760, 762, 765, 768, 770, 771, 774, 775, 777, 780, 783, 785, 786, 789, 790, 792, 795, 798, 800, 801, 804, 805, 807, 810, 813, 815, 816, 819, 820, 822, 825, 828, 830, 831, 834, 835, 837, 840, 843, 845, 846, 849, 850, 852, 855, 858, 860, 861, 864, 865, 867, 870, 873, 875, 876, 879, 880, 882, 885, 888, 890, 891, 894, 895, 897, 900, 903, 905, 906, 909, 910, 912, 915, 918, 920, 921, 924, 925, 927, 930, 933, 935, 936, 939, 940, 942, 945, 948, 950, 951, 954, 955, 957, 960, 963, 965, 966, 969, 970, 972, 975, 978, 980, 981, 984, 985, 987, 990, 993, 995, 996, 999, 1000]\n"
     ]
    }
   ],
   "source": [
    "##Now we need to make a list of the multiples of three and the multiples of 5\n",
    "#A number is a multiple of another if said number can be divided by the other and the remainder is zero.\n",
    "#We make a for statement that specifies that our list multiples_of_three will be composed of numbers for which the division with three yields a remainder of zero. \n",
    "multiples_three_five = []\n",
    "for i in up_to_1000:\n",
    "    if i % 3 == 0 or i % 5 ==0:\n",
    "        multiples_three_five.append(i)\n",
    "print(multiples_three_five)"
   ]
  },
  {
   "cell_type": "code",
   "execution_count": 48,
   "metadata": {},
   "outputs": [
    {
     "data": {
      "text/plain": [
       "234168"
      ]
     },
     "execution_count": 48,
     "metadata": {},
     "output_type": "execute_result"
    }
   ],
   "source": [
    "##Now we just add them\n",
    "sum(multiples_three_five)"
   ]
  },
  {
   "cell_type": "markdown",
   "metadata": {},
   "source": [
    "This one was fairly straight forward. I created a range of all natural numbers from 3 to 1000. I created a for loop that would check every number in that range to see if it was divisible by three or five yielding a remainder of zero. If they were divisible by three or five, I appended the number to a new list which I called multiples of three and five. Then, I used pythons sum method to sum all the integers inside that list. "
   ]
  },
  {
   "cell_type": "markdown",
   "metadata": {},
   "source": [
    "### Challenge 4: String Compressor\n",
    "Implement a method to perform basic string compression using the counts of repeated characters. (This is called run-length encoding.) For example, the string \"aabcccccaaa\" would become a2b1c5a3. If the “compressed” string would not become smaller than the original string, your method should return the original string. You can assume the string has only uppercase and lowercase letters (a–z). Specify whether your solution is case sensitive or case insensitive and what you would need to change to make it the other. Afterward, write a brief explanation walking through your code's logic in markdown."
   ]
  },
  {
   "cell_type": "code",
   "execution_count": 124,
   "metadata": {},
   "outputs": [
    {
     "name": "stdout",
     "output_type": "stream",
     "text": [
      "H1h1e1l2o16\n"
     ]
    }
   ],
   "source": [
    "##We need to make a function here. It's the only way I know so far to have an input and get an output returned\n",
    "##Our function is composed of a for loop that goes through ever character in a line of string, checks if that character is equal to the next character, and if it is, it prints out the number of repetitions instead of the repeated characters.\n",
    "def compression(text):\n",
    "    \n",
    "    #This is the string we will be referencing in our for loop\n",
    "    compressed_string = ''\n",
    "    \n",
    "    #rep_count is the number of consecutive repetitions of a character in a string\n",
    "    rep_count = 1 \n",
    "    #Got this line from stack overflow\n",
    "    compressed_string += text[0]\n",
    "    \n",
    "    #My code was just initially for i in range(len(text)) but I started getting an error.\n",
    "    #The error came in the for loop when it said if text[i+1] == text[i]. It wouldn't do the last line because the index was out of the range of the list.\n",
    "    #I looked for help in stack overflow, and someone suggested to take out the first character, and make the range the lenght of the text -1, so that it would all fit. \n",
    "    for i in range(len(text)-1):\n",
    "        #This next line is why I had to put range(len(text)-1). text[i+1] would be out of the string if our range went up to the last character. \n",
    "        if (text[i] == text[i+1]):\n",
    "            rep_count += 1 \n",
    "        else:\n",
    "            if rep_count > 1:\n",
    "                compressed_string += str(rep_count)\n",
    "            #This next line I added to be able to account for the compression when there is no repetition. As seen in the example provided by this exercise, characters that do not repeat consecutively still print with a 1 afterwards. \n",
    "            elif rep_count == 1:\n",
    "                compressed_string = compressed_string  + str(rep_count)\n",
    "                \n",
    "            compressed_string = compressed_string + text[i+1]\n",
    "            rep_count = 1\n",
    "    #Got this next line from stack overflow as well.\n",
    "    if(rep_count > 1):\n",
    "         compressed_string += str(rep_count)\n",
    "            \n",
    "    #We can't print the compressed string if it's longer than the actual string. These next lines ensure that.        \n",
    "    if len(compressed_string) < len(text):\n",
    "        return print(compressed_string)\n",
    "    else: \n",
    "        return print(text)\n",
    "    \n",
    "#Let's see if it works\n",
    "compression('Hhelloooooooooooooooo')\n",
    "#It works!\n",
    "\n",
    "##This code is case sensitive in the sense that it doesn't recognize that capital letters are equal to lowercase letters, so it doesn't count them as consecutive repetitions of the same character. In order to fix that, I would have to put somewhere in the function (probably best outside the for loop), that upper case letters of the alphabet are equal to lower case letters of the alphabet one for one. I'd probably make a list with all the lower case letters, and a list of all the uppercase letters, and say something like for i in range(len(lowercase)): for x in range(len(upercase)): lowercase[i] = uppercase[x]"
   ]
  },
  {
   "cell_type": "markdown",
   "metadata": {},
   "source": [
    "This one was one of the most complicated. I knew from the offset that I would have to have a count variable that would increase every time there was a consecutive repetition of a character within a string. I knew it would have to be a function that would return a string. I knew the function would have to say at the end that the compressed string should only be printed if it was smaller in lenght than the actual string. I knew that I would have to have if statements determining how the count was going to be changed, and specifing what was going to go into the compressed string. And I knew that I was going to have to set the count back to its original value at the end of the forloop. The hard part was fixing everything that was going wrong with the code. The syntax, the logic. There were a lot of moving parts that were difficult to keep organized. "
   ]
  },
  {
   "cell_type": "markdown",
   "metadata": {},
   "source": [
    "### Challenge 5: FizzBuzz"
   ]
  },
  {
   "cell_type": "code",
   "execution_count": 40,
   "metadata": {
    "collapsed": true
   },
   "outputs": [
    {
     "name": "stdout",
     "output_type": "stream",
     "text": [
      "[1, 2, 'Fizz;', 4, 'Buzz.', 'Fizz;', 7, 8, 'Fizz;', 'Buzz.', 11, 'Fizz;', 13, 14, 'FizzBuzz.', 16, 17, 'Fizz;', 19, 'Buzz.', 'Fizz;', 22, 23, 'Fizz;', 'Buzz.', 26, 'Fizz;', 28, 29, 'FizzBuzz.', 31, 32, 'Fizz;', 34, 'Buzz.', 'Fizz;', 37, 38, 'Fizz;', 'Buzz.', 41, 'Fizz;', 43, 44, 'FizzBuzz.', 46, 47, 'Fizz;', 49, 'Buzz.', 'Fizz;', 52, 53, 'Fizz;', 'Buzz.', 56, 'Fizz;', 58, 59, 'FizzBuzz.', 61, 62, 'Fizz;', 64, 'Buzz.', 'Fizz;', 67, 68, 'Fizz;', 'Buzz.', 71, 'Fizz;', 73, 74, 'FizzBuzz.', 76, 77, 'Fizz;', 79, 'Buzz.', 'Fizz;', 82, 83, 'Fizz;', 'Buzz.', 86, 'Fizz;', 88, 89, 'FizzBuzz.', 91, 92, 'Fizz;', 94, 'Buzz.', 'Fizz;', 97, 98, 'Fizz;', 'Buzz.']\n"
     ]
    }
   ],
   "source": [
    "##First let's make the range up to 100\n",
    "fizzbuzz = list(range(1,101))\n",
    "\n",
    "##Now Let's make a for loop that checks if numbers are multiples of 3 and 5, multiples of 3, or multiples of 5, and replaces them with the appropriate texts.\n",
    "for i in range(len(fizzbuzz)):\n",
    "    if fizzbuzz[i] % 3 == 0 and fizzbuzz[i] % 5 ==0:\n",
    "        fizzbuzz[i] = 'FizzBuzz.'\n",
    "    elif fizzbuzz[i] % 3 == 0:\n",
    "        fizzbuzz[i] = 'Fizz;'\n",
    "    elif fizzbuzz[i] % 5 == 0:\n",
    "        fizzbuzz[i] = 'Buzz.'\n",
    "    else:\n",
    "        fizzbuzz[i] = fizzbuzz[i]\n",
    "\n",
    "print(fizzbuzz)\n",
    "\n"
   ]
  },
  {
   "cell_type": "markdown",
   "metadata": {},
   "source": [
    "This one was fairly straightforward. I got a range of every natural number up to 100 and checked  each number in a for loop to see if it fit anyone of the three parameters. If the number was divisible by three and five it would be replaced with \"Fizbuzz\", if it was divisible by only three it would pring Fizz, and if it was divisible by five it would print Buzz. If it wasn't divisible by three or five it would just print the number. I put the if statements within the for loop in that order to make sure that it would print the right string for numbers that were divisible by both three and five. If I didn't put 3 and five as the first condition, the loop would not get to that if statement, and wouldn't print the right strings for those numbers, it would print the strings for multiples of three of the strings for multiples of five. "
   ]
  }
 ],
 "metadata": {
  "anaconda-cloud": {},
  "kernelspec": {
   "display_name": "Python 3",
   "language": "python",
   "name": "python3"
  },
  "language_info": {
   "codemirror_mode": {
    "name": "ipython",
    "version": 3
   },
   "file_extension": ".py",
   "mimetype": "text/x-python",
   "name": "python",
   "nbconvert_exporter": "python",
   "pygments_lexer": "ipython3",
   "version": "3.6.7"
  }
 },
 "nbformat": 4,
 "nbformat_minor": 2
}
